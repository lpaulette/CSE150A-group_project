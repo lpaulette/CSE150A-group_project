{
  "nbformat": 4,
  "nbformat_minor": 0,
  "metadata": {
    "colab": {
      "provenance": []
    },
    "kernelspec": {
      "name": "python3",
      "display_name": "Python 3"
    },
    "language_info": {
      "name": "python"
    }
  },
  "cells": [
    {
      "cell_type": "code",
      "execution_count": null,
      "metadata": {
        "id": "9NT55F4sduEx"
      },
      "outputs": [],
      "source": [
        "import pandas as pd\n",
        "import numpy as np"
      ]
    },
    {
      "cell_type": "markdown",
      "source": [
        "Load the data"
      ],
      "metadata": {
        "id": "mLXjtkMPeNbg"
      }
    },
    {
      "cell_type": "code",
      "source": [
        "def load_data():\n",
        "    \"\"\"Load stock data from a user-uploaded ZIP file containing a CSV.\"\"\"\n",
        "    uploaded = files.upload()\n",
        "    zip_file_name = list(uploaded.keys())[0]\n",
        "    with zipfile.ZipFile(io.BytesIO(uploaded[zip_file_name]), 'r') as z:\n",
        "        csv_filename = [name for name in z.namelist() if name.endswith('.csv')][0]\n",
        "        with z.open(csv_filename) as f:\n",
        "            return pd.read_csv(f, parse_dates=['Date'], index_col='Date')"
      ],
      "metadata": {
        "id": "6Bfb44vleO-x"
      },
      "execution_count": null,
      "outputs": []
    },
    {
      "cell_type": "markdown",
      "source": [
        "Caculate the indicators from the given data\n",
        "\n",
        "\n",
        "*   Moving Averages (MAs): 10-day and 50-day moving averages of closing prices.\n",
        "*   Relative Strength Index (RSI): Measures stock momentum over 14 days.\n",
        "*   Volatility: Standard deviation of percentage changes in price over 20 days.\n",
        "*   Average True Range (ATR): Measures price fluctuations over 14 days.\n",
        "\n",
        "\n",
        "\n",
        "1.   Return: A DataFrame with additional indicator columns.\n",
        "\n",
        "\n",
        "\n"
      ],
      "metadata": {
        "id": "ey9iObVJeQ7m"
      }
    },
    {
      "cell_type": "code",
      "source": [
        "def calculate_indicators(data):\n",
        "    \"\"\"Calculate trend indicators, volatility measures, and price patterns.\"\"\"\n",
        "    data['10-day MA'] = data['Close'].rolling(window=10).mean()\n",
        "    data['50-day MA'] = data['Close'].rolling(window=50).mean()\n",
        "    data['RSI'] = 100 - (100 / (1 + data['Close'].pct_change().rolling(window=14).mean() /\n",
        "                                data['Close'].pct_change().rolling(window=14).std()))\n",
        "    data['Volatility'] = data['Close'].pct_change().rolling(window=20).std()\n",
        "    data['ATR'] = (data['High'] - data['Low']).rolling(window=14).mean()\n",
        "    return data"
      ],
      "metadata": {
        "id": "x-umTC1DeUWh"
      },
      "execution_count": null,
      "outputs": []
    },
    {
      "cell_type": "markdown",
      "source": [
        "Calculate the price movement\n",
        "\n",
        "\n",
        "\n",
        "*   Next Day Return = Closing price difference between the next day and the current day.\n",
        "*   If Next Day Return > 0, it's labeled as an Uptrend (1); otherwise, it's a Downtrend (0).\n",
        "\n",
        "\n",
        "\n",
        "1.  Return: A DataFrame with movement labels\n",
        "\n",
        "\n",
        "\n"
      ],
      "metadata": {
        "id": "lWAB5HL7eWsG"
      }
    },
    {
      "cell_type": "code",
      "source": [
        "def calculate_price_movement(data):\n",
        "    \"\"\"Determine if the stock price will go up or down the next day.\"\"\"\n",
        "    data['Next Day Return'] = data['Close'].shift(-1) - data['Close']\n",
        "    data['Uptrend'] = (data['Next Day Return'] > 0).astype(int)\n",
        "    return data"
      ],
      "metadata": {
        "id": "CUJQGNNlezne"
      },
      "execution_count": null,
      "outputs": []
    },
    {
      "cell_type": "markdown",
      "source": [
        "Bayesian Calculations\n",
        "\n",
        "\n",
        "*   Compute prior: Proportion of days when the stock increased.\n",
        "*   Compute likelihoods\n",
        "*   Compute evidence (normalization factor): Ensures probabilities sum to 1.\n",
        "*   Compute posterior: Bayesian formula to update prior with observed data.\n",
        "\n",
        "\n",
        "\n",
        "1.   Return: A probability estimate (P(Uptrend | Data))\n",
        "\n",
        "\n",
        "\n",
        "\n",
        "\n"
      ],
      "metadata": {
        "id": "5HSHfDfffb7X"
      }
    },
    {
      "cell_type": "code",
      "source": [
        "def bayesian_update(data):\n",
        "    \"\"\"Apply Bayesian updating to estimate P(Price Increase | Data) using volume-weighted likelihoods.\"\"\"\n",
        "    total_days = len(data.dropna())\n",
        "    up_days = data['Uptrend'].sum()\n",
        "    down_days = total_days - up_days\n",
        "\n",
        "    prior = up_days / total_days if total_days > 0 else 0.5  # Prior probability\n",
        "\n",
        "    # Volume-weighted likelihood calculation\n",
        "    avg_volume_up = data.loc[data['Uptrend'] == 1, 'Volume'].mean()\n",
        "    avg_volume_down = data.loc[data['Uptrend'] == 0, 'Volume'].mean()\n",
        "    total_avg_volume = data['Volume'].mean()\n",
        "\n",
        "    likelihood_up = avg_volume_up / total_avg_volume if total_avg_volume > 0 else 0.5\n",
        "    likelihood_down = avg_volume_down / total_avg_volume if total_avg_volume > 0 else 0.5\n",
        "\n",
        "    # Normalizing constant P(Data)\n",
        "    evidence = (likelihood_up * prior) + (likelihood_down * (1 - prior))\n",
        "\n",
        "    # Posterior: P(Uptrend | Data)\n",
        "    posterior = (likelihood_up * prior) / evidence if evidence > 0 else 0\n",
        "\n",
        "    return posterior"
      ],
      "metadata": {
        "id": "qYZWDwj9gAQ8"
      },
      "execution_count": null,
      "outputs": []
    },
    {
      "cell_type": "markdown",
      "source": [
        "Expected Utility of making a trade\n",
        "\n",
        "\n",
        "\n",
        "1.   Return: Utility value and boolean indicating whether it exceeds the risk threshold\n"
      ],
      "metadata": {
        "id": "OON2dsSlgpi1"
      }
    },
    {
      "cell_type": "code",
      "source": [
        "def expected_utility(posterior, expected_profit, expected_loss, risk_threshold):\n",
        "    \"\"\"Calculate the expected utility for making a trade decision.\"\"\"\n",
        "    utility = (posterior * expected_profit) - ((1 - posterior) * expected_loss)\n",
        "    return utility, utility > risk_threshold"
      ],
      "metadata": {
        "id": "_wWve8xlg67e"
      },
      "execution_count": null,
      "outputs": []
    },
    {
      "cell_type": "markdown",
      "source": [
        "Make a Trade decision based on the Posterior Prob. and Expected Utility\n",
        "\n",
        "\n",
        "*   Decision Rules:\n",
        "*   BUY if posterior > 0.7 and utility is positive.\n",
        "*   SELL if posterior < 0.3 (high probability of decline).\n",
        "*   HOLD otherwise.\n",
        "\n",
        "\n",
        "\n",
        "1.   Return: Trade Action\n",
        "\n",
        "\n",
        "\n"
      ],
      "metadata": {
        "id": "1xVTYpyzhEMK"
      }
    },
    {
      "cell_type": "code",
      "source": [
        "def make_trade_decision(posterior, expected_profit, expected_loss, risk_threshold, threshold=0.7):\n",
        "    \"\"\"Make a trading decision based on the posterior probability and expected utility.\"\"\"\n",
        "    utility, trade_decision = expected_utility(posterior, expected_profit, expected_loss, risk_threshold)\n",
        "\n",
        "    if posterior > threshold and trade_decision:\n",
        "        return \"BUY\"\n",
        "    elif posterior < (1 - threshold):\n",
        "        return \"SELL\"\n",
        "    else:\n",
        "        return \"HOLD\""
      ],
      "metadata": {
        "id": "Fp4OpcdLhctv"
      },
      "execution_count": null,
      "outputs": []
    },
    {
      "cell_type": "markdown",
      "source": [
        "# ***Running things here***"
      ],
      "metadata": {
        "id": "E8wSFWg6hiDm"
      }
    },
    {
      "cell_type": "code",
      "source": [
        "if __name__ == \"__main__\":\n",
        "    print(\"Please upload your stock data ZIP file containing a CSV.\")\n",
        "    stock_data = load_data()\n",
        "    expected_profit = float(input(\"Enter the expected profit percentage (e.g., 0.05 for 5%): \"))\n",
        "    expected_loss = float(input(\"Enter the expected loss percentage (e.g., 0.03 for 3%): \"))\n",
        "    risk_threshold = float(input(\"Enter the risk threshold for trading decision: \"))\n",
        "\n",
        "    stock_data = calculate_indicators(stock_data)\n",
        "    stock_data = calculate_price_movement(stock_data)\n",
        "\n",
        "    posterior_prob = bayesian_update(stock_data)\n",
        "    decision = make_trade_decision(posterior_prob, expected_profit, expected_loss, risk_threshold)\n",
        "\n",
        "    print(f\"Posterior Probability of Uptrend: {posterior_prob:.4f}\")\n",
        "    print(f\"Trading Decision: {decision}\")"
      ],
      "metadata": {
        "id": "vfhAdH_Mhv0u"
      },
      "execution_count": null,
      "outputs": []
    }
  ]
}